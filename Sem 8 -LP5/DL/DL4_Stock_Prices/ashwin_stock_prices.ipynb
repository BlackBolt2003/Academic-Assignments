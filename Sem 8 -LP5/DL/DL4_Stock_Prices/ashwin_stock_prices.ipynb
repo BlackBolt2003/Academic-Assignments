{
 "cells": [
  {
   "cell_type": "markdown",
   "id": "a1218c7d-1f6b-47d4-960e-bf41885438ac",
   "metadata": {},
   "source": [
    "# Recurrent neural network (RNN) \n",
    "Use the Google stock prices dataset and design a time series analysis and prediction system using RNN."
   ]
  },
  {
   "cell_type": "code",
   "execution_count": 39,
   "id": "bb370c51-b7ba-4661-a87e-5d8e9fcfdf59",
   "metadata": {},
   "outputs": [],
   "source": [
    "import numpy as np\n",
    "import pandas as pd\n",
    "import matplotlib.pyplot as plt"
   ]
  },
  {
   "cell_type": "code",
   "execution_count": 40,
   "id": "1f320c98-6dbc-4548-9337-906b3e0b0c5e",
   "metadata": {},
   "outputs": [],
   "source": [
    "from sklearn.preprocessing import MinMaxScaler\n",
    "from tensorflow.keras.models import Sequential\n",
    "from tensorflow.keras.layers import Dense, LSTM"
   ]
  },
  {
   "cell_type": "code",
   "execution_count": 41,
   "id": "7a6068e4-1e87-4d70-abaa-c5e7dbdbabe0",
   "metadata": {},
   "outputs": [
    {
     "name": "stdout",
     "output_type": "stream",
     "text": [
      "<class 'pandas.core.frame.DataFrame'>\n",
      "RangeIndex: 4120 entries, 0 to 4119\n",
      "Data columns (total 7 columns):\n",
      " #   Column     Non-Null Count  Dtype  \n",
      "---  ------     --------------  -----  \n",
      " 0   Date       4120 non-null   object \n",
      " 1   High       4120 non-null   float64\n",
      " 2   Low        4120 non-null   float64\n",
      " 3   Open       4120 non-null   float64\n",
      " 4   Close      4120 non-null   float64\n",
      " 5   Volume     4120 non-null   float64\n",
      " 6   Adj Close  4120 non-null   float64\n",
      "dtypes: float64(6), object(1)\n",
      "memory usage: 225.4+ KB\n"
     ]
    }
   ],
   "source": [
    "df = pd.read_csv('GOOG.csv')\n",
    "df.info()"
   ]
  },
  {
   "cell_type": "code",
   "execution_count": 42,
   "id": "97d01c94-daed-4f4e-9661-46cdf2af8fb2",
   "metadata": {},
   "outputs": [
    {
     "data": {
      "text/html": [
       "<div>\n",
       "<style scoped>\n",
       "    .dataframe tbody tr th:only-of-type {\n",
       "        vertical-align: middle;\n",
       "    }\n",
       "\n",
       "    .dataframe tbody tr th {\n",
       "        vertical-align: top;\n",
       "    }\n",
       "\n",
       "    .dataframe thead th {\n",
       "        text-align: right;\n",
       "    }\n",
       "</style>\n",
       "<table border=\"1\" class=\"dataframe\">\n",
       "  <thead>\n",
       "    <tr style=\"text-align: right;\">\n",
       "      <th></th>\n",
       "      <th>Date</th>\n",
       "      <th>Close</th>\n",
       "    </tr>\n",
       "  </thead>\n",
       "  <tbody>\n",
       "    <tr>\n",
       "      <th>0</th>\n",
       "      <td>2004-08-23</td>\n",
       "      <td>54.495735</td>\n",
       "    </tr>\n",
       "    <tr>\n",
       "      <th>1</th>\n",
       "      <td>2004-08-24</td>\n",
       "      <td>52.239197</td>\n",
       "    </tr>\n",
       "    <tr>\n",
       "      <th>2</th>\n",
       "      <td>2004-08-25</td>\n",
       "      <td>52.802086</td>\n",
       "    </tr>\n",
       "    <tr>\n",
       "      <th>3</th>\n",
       "      <td>2004-08-26</td>\n",
       "      <td>53.753517</td>\n",
       "    </tr>\n",
       "    <tr>\n",
       "      <th>4</th>\n",
       "      <td>2004-08-27</td>\n",
       "      <td>52.876804</td>\n",
       "    </tr>\n",
       "  </tbody>\n",
       "</table>\n",
       "</div>"
      ],
      "text/plain": [
       "         Date      Close\n",
       "0  2004-08-23  54.495735\n",
       "1  2004-08-24  52.239197\n",
       "2  2004-08-25  52.802086\n",
       "3  2004-08-26  53.753517\n",
       "4  2004-08-27  52.876804"
      ]
     },
     "execution_count": 42,
     "metadata": {},
     "output_type": "execute_result"
    }
   ],
   "source": [
    "df = df[['Date', 'Close']]\n",
    "df.head()"
   ]
  },
  {
   "cell_type": "code",
   "execution_count": 43,
   "id": "1d328580-7e98-4d6d-8804-ca15cad2b0f1",
   "metadata": {},
   "outputs": [
    {
     "data": {
      "text/html": [
       "<div>\n",
       "<style scoped>\n",
       "    .dataframe tbody tr th:only-of-type {\n",
       "        vertical-align: middle;\n",
       "    }\n",
       "\n",
       "    .dataframe tbody tr th {\n",
       "        vertical-align: top;\n",
       "    }\n",
       "\n",
       "    .dataframe thead th {\n",
       "        text-align: right;\n",
       "    }\n",
       "</style>\n",
       "<table border=\"1\" class=\"dataframe\">\n",
       "  <thead>\n",
       "    <tr style=\"text-align: right;\">\n",
       "      <th></th>\n",
       "      <th>Close</th>\n",
       "    </tr>\n",
       "    <tr>\n",
       "      <th>Date</th>\n",
       "      <th></th>\n",
       "    </tr>\n",
       "  </thead>\n",
       "  <tbody>\n",
       "    <tr>\n",
       "      <th>2004-08-23</th>\n",
       "      <td>54.495735</td>\n",
       "    </tr>\n",
       "    <tr>\n",
       "      <th>2004-08-24</th>\n",
       "      <td>52.239197</td>\n",
       "    </tr>\n",
       "    <tr>\n",
       "      <th>2004-08-25</th>\n",
       "      <td>52.802086</td>\n",
       "    </tr>\n",
       "    <tr>\n",
       "      <th>2004-08-26</th>\n",
       "      <td>53.753517</td>\n",
       "    </tr>\n",
       "    <tr>\n",
       "      <th>2004-08-27</th>\n",
       "      <td>52.876804</td>\n",
       "    </tr>\n",
       "  </tbody>\n",
       "</table>\n",
       "</div>"
      ],
      "text/plain": [
       "                Close\n",
       "Date                 \n",
       "2004-08-23  54.495735\n",
       "2004-08-24  52.239197\n",
       "2004-08-25  52.802086\n",
       "2004-08-26  53.753517\n",
       "2004-08-27  52.876804"
      ]
     },
     "execution_count": 43,
     "metadata": {},
     "output_type": "execute_result"
    }
   ],
   "source": [
    "df['Date'] = pd.to_datetime(df['Date'])\n",
    "df.set_index('Date', inplace=True)\n",
    "df.sort_index(inplace=True)\n",
    "df.head()"
   ]
  },
  {
   "cell_type": "code",
   "execution_count": 44,
   "id": "9e1f4f3f-54d0-4743-bcb9-c2943687f274",
   "metadata": {},
   "outputs": [
    {
     "name": "stdout",
     "output_type": "stream",
     "text": [
      "<class 'pandas.core.frame.DataFrame'>\n",
      "DatetimeIndex: 4120 entries, 2004-08-23 to 2020-12-31\n",
      "Data columns (total 1 columns):\n",
      " #   Column  Non-Null Count  Dtype  \n",
      "---  ------  --------------  -----  \n",
      " 0   Close   4120 non-null   float64\n",
      "dtypes: float64(1)\n",
      "memory usage: 64.4 KB\n"
     ]
    }
   ],
   "source": [
    "df.info()"
   ]
  },
  {
   "cell_type": "code",
   "execution_count": 49,
   "id": "3ffdb5d1-f348-4049-b589-bd861e88fa10",
   "metadata": {},
   "outputs": [
    {
     "data": {
      "text/plain": [
       "array([[0.00263049],\n",
       "       [0.00136147],\n",
       "       [0.00167803],\n",
       "       ...,\n",
       "       [0.96104425],\n",
       "       [0.95024667],\n",
       "       [0.95719762]])"
      ]
     },
     "execution_count": 49,
     "metadata": {},
     "output_type": "execute_result"
    }
   ],
   "source": [
    "# normalize\n",
    "sc = MinMaxScaler(feature_range=(0,1))\n",
    "scaled_data = sc.fit_transform(df[['Close']])\n",
    "scaled_data"
   ]
  },
  {
   "cell_type": "code",
   "execution_count": 53,
   "id": "0f3eae56-3ef3-41b2-9f4b-af37b7a62e24",
   "metadata": {},
   "outputs": [
    {
     "data": {
      "text/plain": [
       "array([2.63049248e-03, 1.36147084e-03, 1.67802582e-03, 2.21308734e-03,\n",
       "       1.72004565e-03, 5.60275140e-04, 6.61125309e-04, 6.72334459e-05,\n",
       "       4.20206892e-04, 0.00000000e+00])"
      ]
     },
     "execution_count": 53,
     "metadata": {},
     "output_type": "execute_result"
    }
   ],
   "source": [
    "scaled_data[0:10,0]"
   ]
  },
  {
   "cell_type": "code",
   "execution_count": 61,
   "id": "932c001d-5bfd-4b22-98f5-7f89c8efd351",
   "metadata": {},
   "outputs": [
    {
     "data": {
      "text/plain": [
       "[0.02031838499135988, 0.020307177986848193]"
      ]
     },
     "execution_count": 61,
     "metadata": {},
     "output_type": "execute_result"
    }
   ],
   "source": [
    "# create sequence\n",
    "seq_len = 60\n",
    "X, y = [], []\n",
    "\n",
    "for i in range(seq_len, len(scaled_data)):\n",
    "    X.append(scaled_data[i-seq_len:i, 0])\n",
    "    y.append(scaled_data[i, 0])\n",
    "\n",
    "X[:2] # each element is a vector of 60 prices of 60 days, before target day\n",
    "y[:2] # each element is stock price of target day"
   ]
  },
  {
   "cell_type": "code",
   "execution_count": 62,
   "id": "7e6477db-c520-4e09-9846-3b032fe03fe1",
   "metadata": {},
   "outputs": [
    {
     "name": "stdout",
     "output_type": "stream",
     "text": [
      "(4060, 60) (4060,)\n"
     ]
    }
   ],
   "source": [
    "X, y = np.array(X), np.array(y)\n",
    "print(f'{X.shape} {y.shape}')"
   ]
  },
  {
   "cell_type": "code",
   "execution_count": 63,
   "id": "7daed793-8c58-4381-99b6-129d971a3650",
   "metadata": {},
   "outputs": [],
   "source": [
    "X = X.reshape(X.shape[0], X.shape[1], 1)"
   ]
  },
  {
   "cell_type": "code",
   "execution_count": 68,
   "id": "05b509e5-62df-4a91-b656-63eda30ee78c",
   "metadata": {},
   "outputs": [
    {
     "data": {
      "text/plain": [
       "(4060, 60, 1)"
      ]
     },
     "execution_count": 68,
     "metadata": {},
     "output_type": "execute_result"
    }
   ],
   "source": [
    "X.shape # shape: (samples, timesteps<60>, features<1:price>)"
   ]
  },
  {
   "cell_type": "code",
   "execution_count": 70,
   "id": "f2e0696a-3441-42f5-96de-e5f32c3ec660",
   "metadata": {},
   "outputs": [
    {
     "data": {
      "text/plain": [
       "(3248, 60, 1)"
      ]
     },
     "execution_count": 70,
     "metadata": {},
     "output_type": "execute_result"
    }
   ],
   "source": [
    "# split into train and test\n",
    "split = int(len(X) * 0.8) # split = (4080 * 0.8)\n",
    "x_train, x_test = X[:split], X[split:]\n",
    "y_train, y_test = y[:split], y[split:]\n",
    "\n",
    "x_train.shape"
   ]
  },
  {
   "cell_type": "code",
   "execution_count": 71,
   "id": "bff6284b-1705-4f07-84bf-28bfe8b226c1",
   "metadata": {},
   "outputs": [],
   "source": [
    "# build LSTM model\n",
    "model = Sequential()"
   ]
  },
  {
   "cell_type": "code",
   "execution_count": 72,
   "id": "76119eef-faad-4aca-ab92-4c8c45da801f",
   "metadata": {},
   "outputs": [
    {
     "name": "stderr",
     "output_type": "stream",
     "text": [
      "C:\\Users\\ASHWIN\\AppData\\Roaming\\Python\\Python312\\site-packages\\keras\\src\\layers\\rnn\\rnn.py:200: UserWarning: Do not pass an `input_shape`/`input_dim` argument to a layer. When using Sequential models, prefer using an `Input(shape)` object as the first layer in the model instead.\n",
      "  super().__init__(**kwargs)\n"
     ]
    }
   ],
   "source": [
    "model.add(LSTM(units=50, return_sequences=True, input_shape=(x_train.shape[1], 1)))\n",
    "model.add(LSTM(units=50))\n",
    "model.add(Dense(units=1))"
   ]
  },
  {
   "cell_type": "code",
   "execution_count": 73,
   "id": "d05c1584-43be-49d5-86bd-c160a7486d5d",
   "metadata": {},
   "outputs": [],
   "source": [
    "# compile\n",
    "model.compile(optimizer='adam', loss='mean_squared_error')"
   ]
  },
  {
   "cell_type": "code",
   "execution_count": 74,
   "id": "368fa8b8-3bb3-429f-ab78-b4e7a7de6a3a",
   "metadata": {},
   "outputs": [
    {
     "name": "stdout",
     "output_type": "stream",
     "text": [
      "Epoch 1/10\n",
      "\u001b[1m102/102\u001b[0m \u001b[32m━━━━━━━━━━━━━━━━━━━━\u001b[0m\u001b[37m\u001b[0m \u001b[1m6s\u001b[0m 37ms/step - loss: 0.0066\n",
      "Epoch 2/10\n",
      "\u001b[1m102/102\u001b[0m \u001b[32m━━━━━━━━━━━━━━━━━━━━\u001b[0m\u001b[37m\u001b[0m \u001b[1m4s\u001b[0m 39ms/step - loss: 7.9936e-05\n",
      "Epoch 3/10\n",
      "\u001b[1m102/102\u001b[0m \u001b[32m━━━━━━━━━━━━━━━━━━━━\u001b[0m\u001b[37m\u001b[0m \u001b[1m4s\u001b[0m 40ms/step - loss: 7.5862e-05\n",
      "Epoch 4/10\n",
      "\u001b[1m102/102\u001b[0m \u001b[32m━━━━━━━━━━━━━━━━━━━━\u001b[0m\u001b[37m\u001b[0m \u001b[1m4s\u001b[0m 38ms/step - loss: 7.4620e-05\n",
      "Epoch 5/10\n",
      "\u001b[1m102/102\u001b[0m \u001b[32m━━━━━━━━━━━━━━━━━━━━\u001b[0m\u001b[37m\u001b[0m \u001b[1m4s\u001b[0m 40ms/step - loss: 6.8146e-05\n",
      "Epoch 6/10\n",
      "\u001b[1m102/102\u001b[0m \u001b[32m━━━━━━━━━━━━━━━━━━━━\u001b[0m\u001b[37m\u001b[0m \u001b[1m4s\u001b[0m 39ms/step - loss: 6.5837e-05\n",
      "Epoch 7/10\n",
      "\u001b[1m102/102\u001b[0m \u001b[32m━━━━━━━━━━━━━━━━━━━━\u001b[0m\u001b[37m\u001b[0m \u001b[1m4s\u001b[0m 38ms/step - loss: 6.4137e-05\n",
      "Epoch 8/10\n",
      "\u001b[1m102/102\u001b[0m \u001b[32m━━━━━━━━━━━━━━━━━━━━\u001b[0m\u001b[37m\u001b[0m \u001b[1m4s\u001b[0m 40ms/step - loss: 6.4609e-05\n",
      "Epoch 9/10\n",
      "\u001b[1m102/102\u001b[0m \u001b[32m━━━━━━━━━━━━━━━━━━━━\u001b[0m\u001b[37m\u001b[0m \u001b[1m4s\u001b[0m 43ms/step - loss: 6.7622e-05\n",
      "Epoch 10/10\n",
      "\u001b[1m102/102\u001b[0m \u001b[32m━━━━━━━━━━━━━━━━━━━━\u001b[0m\u001b[37m\u001b[0m \u001b[1m4s\u001b[0m 43ms/step - loss: 7.5235e-05\n"
     ]
    }
   ],
   "source": [
    "# train model\n",
    "history = model.fit(x_train, y_train, epochs=10, batch_size=32)"
   ]
  },
  {
   "cell_type": "code",
   "execution_count": 75,
   "id": "14209e75-2618-4348-802c-23263812246b",
   "metadata": {},
   "outputs": [
    {
     "name": "stdout",
     "output_type": "stream",
     "text": [
      "\u001b[1m26/26\u001b[0m \u001b[32m━━━━━━━━━━━━━━━━━━━━\u001b[0m\u001b[37m\u001b[0m \u001b[1m1s\u001b[0m 30ms/step\n"
     ]
    }
   ],
   "source": [
    "# predict and invert scale\n",
    "predictions = model.predict(x_test)"
   ]
  },
  {
   "cell_type": "code",
   "execution_count": 76,
   "id": "122a03d0-9935-4fbc-8e09-93ac10547b1f",
   "metadata": {},
   "outputs": [],
   "source": [
    "pred_prices = sc.inverse_transform(predictions.reshape(-1, 1))\n",
    "real_prices = sc.inverse_transform(y_test.reshape(-1, 1))"
   ]
  },
  {
   "cell_type": "code",
   "execution_count": 79,
   "id": "b46d28e1-700e-4538-8f30-69b7de94365a",
   "metadata": {},
   "outputs": [
    {
     "data": {
      "image/png": "[encoded data removed]",
      "text/plain": [
       "<Figure size 1000x500 with 1 Axes>"
      ]
     },
     "metadata": {},
     "output_type": "display_data"
    }
   ],
   "source": [
    "plt.figure(figsize=(10,5))\n",
    "plt.plot(real_prices, color='orange', label='Actual Prices')\n",
    "plt.plot(pred_prices, color='blue', label='Predicted Prices')\n",
    "plt.title('Google Stock Price Prediction')\n",
    "plt.xlabel('Time')\n",
    "plt.ylabel('Price')\n",
    "plt.legend()\n",
    "plt.show()"
   ]
  },
  {
   "cell_type": "code",
   "execution_count": 81,
   "id": "4d38d53c-c117-49dd-915a-195616b9b384",
   "metadata": {},
   "outputs": [],
   "source": [
    "from sklearn.metrics import mean_absolute_error, mean_squared_error"
   ]
  },
  {
   "cell_type": "code",
   "execution_count": 84,
   "id": "f574b7fb-a5ac-4f27-b2b8-a6ec62cdde59",
   "metadata": {},
   "outputs": [
    {
     "name": "stdout",
     "output_type": "stream",
     "text": [
      "MAE = 39.387273\n"
     ]
    }
   ],
   "source": [
    "mae = mean_absolute_error(real_prices, pred_prices)\n",
    "print(f'MAE = {mae:.6f}')"
   ]
  },
  {
   "cell_type": "code",
   "execution_count": 85,
   "id": "e42b6669-b5ee-4232-b21e-743b6a17935d",
   "metadata": {},
   "outputs": [
    {
     "name": "stdout",
     "output_type": "stream",
     "text": [
      "MSE = 2500.339340\n"
     ]
    }
   ],
   "source": [
    "mse = mean_squared_error(real_prices, pred_prices)\n",
    "print(f'MSE = {mse:.6f}')"
   ]
  },
  {
   "cell_type": "code",
   "execution_count": 86,
   "id": "78ab947b-992e-4e05-8abf-355155b81e17",
   "metadata": {},
   "outputs": [
    {
     "name": "stdout",
     "output_type": "stream",
     "text": [
      "RMSE = 50.003393\n"
     ]
    }
   ],
   "source": [
    "rmse = np.sqrt(mse)\n",
    "print(f'RMSE = {rmse:.6f}')"
   ]
  }
 ],
 "metadata": {
  "kernelspec": {
   "display_name": "Python 3 (ipykernel)",
   "language": "python",
   "name": "python3"
  },
  "language_info": {
   "codemirror_mode": {
    "name": "ipython",
    "version": 3
   },
   "file_extension": ".py",
   "mimetype": "text/x-python",
   "name": "python",
   "nbconvert_exporter": "python",
   "pygments_lexer": "ipython3",
   "version": "3.12.1"
  }
 },
 "nbformat": 4,
 "nbformat_minor": 5
}
