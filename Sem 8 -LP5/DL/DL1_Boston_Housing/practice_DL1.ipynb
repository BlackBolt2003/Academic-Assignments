{
 "cells": [
  {
   "cell_type": "markdown",
   "id": "9af12f59-729a-4be8-b618-bf7fc1a1a61e",
   "metadata": {},
   "source": [
    "# Boston Housing Price Prediction - Linear Regression using Deep Neural Network"
   ]
  },
  {
   "cell_type": "code",
   "execution_count": 1,
   "id": "67234b68-57cd-4dd0-a602-67a0b0a7cd0b",
   "metadata": {},
   "outputs": [],
   "source": [
    "import numpy as np\n",
    "import pandas as pd\n",
    "import matplotlib.pyplot as plt\n",
    "import seaborn as sns"
   ]
  },
  {
   "cell_type": "code",
   "execution_count": 2,
   "id": "e29fda2e-1a6b-434b-8f52-312023864ed0",
   "metadata": {},
   "outputs": [],
   "source": [
    "from tensorflow.keras import layers, models\n",
    "from sklearn.model_selection import train_test_split\n",
    "from sklearn.metrics import mean_absolute_error, mean_squared_error\n",
    "from sklearn.preprocessing import StandardScaler"
   ]
  },
  {
   "cell_type": "code",
   "execution_count": 4,
   "id": "2b209879-d303-4e52-ae9d-aba95a407d6c",
   "metadata": {},
   "outputs": [
    {
     "data": {
      "text/html": [
       "<div>\n",
       "<style scoped>\n",
       "    .dataframe tbody tr th:only-of-type {\n",
       "        vertical-align: middle;\n",
       "    }\n",
       "\n",
       "    .dataframe tbody tr th {\n",
       "        vertical-align: top;\n",
       "    }\n",
       "\n",
       "    .dataframe thead th {\n",
       "        text-align: right;\n",
       "    }\n",
       "</style>\n",
       "<table border=\"1\" class=\"dataframe\">\n",
       "  <thead>\n",
       "    <tr style=\"text-align: right;\">\n",
       "      <th></th>\n",
       "      <th>crim</th>\n",
       "      <th>zn</th>\n",
       "      <th>indus</th>\n",
       "      <th>chas</th>\n",
       "      <th>nox</th>\n",
       "      <th>rm</th>\n",
       "      <th>age</th>\n",
       "      <th>dis</th>\n",
       "      <th>rad</th>\n",
       "      <th>tax</th>\n",
       "      <th>ptratio</th>\n",
       "      <th>b</th>\n",
       "      <th>lstat</th>\n",
       "      <th>MEDV</th>\n",
       "    </tr>\n",
       "  </thead>\n",
       "  <tbody>\n",
       "    <tr>\n",
       "      <th>0</th>\n",
       "      <td>0.00632</td>\n",
       "      <td>18.0</td>\n",
       "      <td>2.31</td>\n",
       "      <td>0</td>\n",
       "      <td>0.538</td>\n",
       "      <td>6.575</td>\n",
       "      <td>65.2</td>\n",
       "      <td>4.0900</td>\n",
       "      <td>1</td>\n",
       "      <td>296</td>\n",
       "      <td>15.3</td>\n",
       "      <td>396.90</td>\n",
       "      <td>4.98</td>\n",
       "      <td>24.0</td>\n",
       "    </tr>\n",
       "    <tr>\n",
       "      <th>1</th>\n",
       "      <td>0.02731</td>\n",
       "      <td>0.0</td>\n",
       "      <td>7.07</td>\n",
       "      <td>0</td>\n",
       "      <td>0.469</td>\n",
       "      <td>6.421</td>\n",
       "      <td>78.9</td>\n",
       "      <td>4.9671</td>\n",
       "      <td>2</td>\n",
       "      <td>242</td>\n",
       "      <td>17.8</td>\n",
       "      <td>396.90</td>\n",
       "      <td>9.14</td>\n",
       "      <td>21.6</td>\n",
       "    </tr>\n",
       "    <tr>\n",
       "      <th>2</th>\n",
       "      <td>0.02729</td>\n",
       "      <td>0.0</td>\n",
       "      <td>7.07</td>\n",
       "      <td>0</td>\n",
       "      <td>0.469</td>\n",
       "      <td>7.185</td>\n",
       "      <td>61.1</td>\n",
       "      <td>4.9671</td>\n",
       "      <td>2</td>\n",
       "      <td>242</td>\n",
       "      <td>17.8</td>\n",
       "      <td>392.83</td>\n",
       "      <td>4.03</td>\n",
       "      <td>34.7</td>\n",
       "    </tr>\n",
       "    <tr>\n",
       "      <th>3</th>\n",
       "      <td>0.03237</td>\n",
       "      <td>0.0</td>\n",
       "      <td>2.18</td>\n",
       "      <td>0</td>\n",
       "      <td>0.458</td>\n",
       "      <td>6.998</td>\n",
       "      <td>45.8</td>\n",
       "      <td>6.0622</td>\n",
       "      <td>3</td>\n",
       "      <td>222</td>\n",
       "      <td>18.7</td>\n",
       "      <td>394.63</td>\n",
       "      <td>2.94</td>\n",
       "      <td>33.4</td>\n",
       "    </tr>\n",
       "    <tr>\n",
       "      <th>4</th>\n",
       "      <td>0.06905</td>\n",
       "      <td>0.0</td>\n",
       "      <td>2.18</td>\n",
       "      <td>0</td>\n",
       "      <td>0.458</td>\n",
       "      <td>7.147</td>\n",
       "      <td>54.2</td>\n",
       "      <td>6.0622</td>\n",
       "      <td>3</td>\n",
       "      <td>222</td>\n",
       "      <td>18.7</td>\n",
       "      <td>396.90</td>\n",
       "      <td>5.33</td>\n",
       "      <td>36.2</td>\n",
       "    </tr>\n",
       "  </tbody>\n",
       "</table>\n",
       "</div>"
      ],
      "text/plain": [
       "      crim    zn  indus  chas    nox     rm   age     dis  rad  tax  ptratio  \\\n",
       "0  0.00632  18.0   2.31     0  0.538  6.575  65.2  4.0900    1  296     15.3   \n",
       "1  0.02731   0.0   7.07     0  0.469  6.421  78.9  4.9671    2  242     17.8   \n",
       "2  0.02729   0.0   7.07     0  0.469  7.185  61.1  4.9671    2  242     17.8   \n",
       "3  0.03237   0.0   2.18     0  0.458  6.998  45.8  6.0622    3  222     18.7   \n",
       "4  0.06905   0.0   2.18     0  0.458  7.147  54.2  6.0622    3  222     18.7   \n",
       "\n",
       "        b  lstat  MEDV  \n",
       "0  396.90   4.98  24.0  \n",
       "1  396.90   9.14  21.6  \n",
       "2  392.83   4.03  34.7  \n",
       "3  394.63   2.94  33.4  \n",
       "4  396.90   5.33  36.2  "
      ]
     },
     "execution_count": 4,
     "metadata": {},
     "output_type": "execute_result"
    }
   ],
   "source": [
    "df = pd.read_csv('1_boston_housing.csv')\n",
    "df.head()"
   ]
  },
  {
   "cell_type": "code",
   "execution_count": 5,
   "id": "52c7de54-785d-496f-a129-62a6bfdfb01c",
   "metadata": {},
   "outputs": [
    {
     "data": {
      "text/plain": [
       "(506, 14)"
      ]
     },
     "execution_count": 5,
     "metadata": {},
     "output_type": "execute_result"
    }
   ],
   "source": [
    "df.shape"
   ]
  },
  {
   "cell_type": "code",
   "execution_count": 6,
   "id": "afbe9cd9-019f-4960-8e49-6e06a18bd165",
   "metadata": {},
   "outputs": [
    {
     "name": "stdout",
     "output_type": "stream",
     "text": [
      "<class 'pandas.core.frame.DataFrame'>\n",
      "RangeIndex: 506 entries, 0 to 505\n",
      "Data columns (total 14 columns):\n",
      " #   Column   Non-Null Count  Dtype  \n",
      "---  ------   --------------  -----  \n",
      " 0   crim     506 non-null    float64\n",
      " 1   zn       506 non-null    float64\n",
      " 2   indus    506 non-null    float64\n",
      " 3   chas     506 non-null    int64  \n",
      " 4   nox      506 non-null    float64\n",
      " 5   rm       506 non-null    float64\n",
      " 6   age      506 non-null    float64\n",
      " 7   dis      506 non-null    float64\n",
      " 8   rad      506 non-null    int64  \n",
      " 9   tax      506 non-null    int64  \n",
      " 10  ptratio  506 non-null    float64\n",
      " 11  b        506 non-null    float64\n",
      " 12  lstat    506 non-null    float64\n",
      " 13  MEDV     506 non-null    float64\n",
      "dtypes: float64(11), int64(3)\n",
      "memory usage: 55.5 KB\n"
     ]
    }
   ],
   "source": [
    "df.info()"
   ]
  },
  {
   "cell_type": "code",
   "execution_count": 7,
   "id": "ce7c7020-215d-4ee7-8a21-7992183481bd",
   "metadata": {},
   "outputs": [
    {
     "data": {
      "text/html": [
       "<div>\n",
       "<style scoped>\n",
       "    .dataframe tbody tr th:only-of-type {\n",
       "        vertical-align: middle;\n",
       "    }\n",
       "\n",
       "    .dataframe tbody tr th {\n",
       "        vertical-align: top;\n",
       "    }\n",
       "\n",
       "    .dataframe thead th {\n",
       "        text-align: right;\n",
       "    }\n",
       "</style>\n",
       "<table border=\"1\" class=\"dataframe\">\n",
       "  <thead>\n",
       "    <tr style=\"text-align: right;\">\n",
       "      <th></th>\n",
       "      <th>crim</th>\n",
       "      <th>zn</th>\n",
       "      <th>indus</th>\n",
       "      <th>chas</th>\n",
       "      <th>nox</th>\n",
       "      <th>rm</th>\n",
       "      <th>age</th>\n",
       "      <th>dis</th>\n",
       "      <th>rad</th>\n",
       "      <th>tax</th>\n",
       "      <th>ptratio</th>\n",
       "      <th>b</th>\n",
       "      <th>lstat</th>\n",
       "      <th>MEDV</th>\n",
       "    </tr>\n",
       "  </thead>\n",
       "  <tbody>\n",
       "    <tr>\n",
       "      <th>count</th>\n",
       "      <td>506.000000</td>\n",
       "      <td>506.000000</td>\n",
       "      <td>506.000000</td>\n",
       "      <td>506.000000</td>\n",
       "      <td>506.000000</td>\n",
       "      <td>506.000000</td>\n",
       "      <td>506.000000</td>\n",
       "      <td>506.000000</td>\n",
       "      <td>506.000000</td>\n",
       "      <td>506.000000</td>\n",
       "      <td>506.000000</td>\n",
       "      <td>506.000000</td>\n",
       "      <td>506.000000</td>\n",
       "      <td>506.000000</td>\n",
       "    </tr>\n",
       "    <tr>\n",
       "      <th>mean</th>\n",
       "      <td>3.613524</td>\n",
       "      <td>11.363636</td>\n",
       "      <td>11.136779</td>\n",
       "      <td>0.069170</td>\n",
       "      <td>0.554695</td>\n",
       "      <td>6.284634</td>\n",
       "      <td>68.574901</td>\n",
       "      <td>3.795043</td>\n",
       "      <td>9.549407</td>\n",
       "      <td>408.237154</td>\n",
       "      <td>18.455534</td>\n",
       "      <td>356.674032</td>\n",
       "      <td>12.653063</td>\n",
       "      <td>22.532806</td>\n",
       "    </tr>\n",
       "    <tr>\n",
       "      <th>std</th>\n",
       "      <td>8.601545</td>\n",
       "      <td>23.322453</td>\n",
       "      <td>6.860353</td>\n",
       "      <td>0.253994</td>\n",
       "      <td>0.115878</td>\n",
       "      <td>0.702617</td>\n",
       "      <td>28.148861</td>\n",
       "      <td>2.105710</td>\n",
       "      <td>8.707259</td>\n",
       "      <td>168.537116</td>\n",
       "      <td>2.164946</td>\n",
       "      <td>91.294864</td>\n",
       "      <td>7.141062</td>\n",
       "      <td>9.197104</td>\n",
       "    </tr>\n",
       "    <tr>\n",
       "      <th>min</th>\n",
       "      <td>0.006320</td>\n",
       "      <td>0.000000</td>\n",
       "      <td>0.460000</td>\n",
       "      <td>0.000000</td>\n",
       "      <td>0.385000</td>\n",
       "      <td>3.561000</td>\n",
       "      <td>2.900000</td>\n",
       "      <td>1.129600</td>\n",
       "      <td>1.000000</td>\n",
       "      <td>187.000000</td>\n",
       "      <td>12.600000</td>\n",
       "      <td>0.320000</td>\n",
       "      <td>1.730000</td>\n",
       "      <td>5.000000</td>\n",
       "    </tr>\n",
       "    <tr>\n",
       "      <th>25%</th>\n",
       "      <td>0.082045</td>\n",
       "      <td>0.000000</td>\n",
       "      <td>5.190000</td>\n",
       "      <td>0.000000</td>\n",
       "      <td>0.449000</td>\n",
       "      <td>5.885500</td>\n",
       "      <td>45.025000</td>\n",
       "      <td>2.100175</td>\n",
       "      <td>4.000000</td>\n",
       "      <td>279.000000</td>\n",
       "      <td>17.400000</td>\n",
       "      <td>375.377500</td>\n",
       "      <td>6.950000</td>\n",
       "      <td>17.025000</td>\n",
       "    </tr>\n",
       "    <tr>\n",
       "      <th>50%</th>\n",
       "      <td>0.256510</td>\n",
       "      <td>0.000000</td>\n",
       "      <td>9.690000</td>\n",
       "      <td>0.000000</td>\n",
       "      <td>0.538000</td>\n",
       "      <td>6.208500</td>\n",
       "      <td>77.500000</td>\n",
       "      <td>3.207450</td>\n",
       "      <td>5.000000</td>\n",
       "      <td>330.000000</td>\n",
       "      <td>19.050000</td>\n",
       "      <td>391.440000</td>\n",
       "      <td>11.360000</td>\n",
       "      <td>21.200000</td>\n",
       "    </tr>\n",
       "    <tr>\n",
       "      <th>75%</th>\n",
       "      <td>3.677083</td>\n",
       "      <td>12.500000</td>\n",
       "      <td>18.100000</td>\n",
       "      <td>0.000000</td>\n",
       "      <td>0.624000</td>\n",
       "      <td>6.623500</td>\n",
       "      <td>94.075000</td>\n",
       "      <td>5.188425</td>\n",
       "      <td>24.000000</td>\n",
       "      <td>666.000000</td>\n",
       "      <td>20.200000</td>\n",
       "      <td>396.225000</td>\n",
       "      <td>16.955000</td>\n",
       "      <td>25.000000</td>\n",
       "    </tr>\n",
       "    <tr>\n",
       "      <th>max</th>\n",
       "      <td>88.976200</td>\n",
       "      <td>100.000000</td>\n",
       "      <td>27.740000</td>\n",
       "      <td>1.000000</td>\n",
       "      <td>0.871000</td>\n",
       "      <td>8.780000</td>\n",
       "      <td>100.000000</td>\n",
       "      <td>12.126500</td>\n",
       "      <td>24.000000</td>\n",
       "      <td>711.000000</td>\n",
       "      <td>22.000000</td>\n",
       "      <td>396.900000</td>\n",
       "      <td>37.970000</td>\n",
       "      <td>50.000000</td>\n",
       "    </tr>\n",
       "  </tbody>\n",
       "</table>\n",
       "</div>"
      ],
      "text/plain": [
       "             crim          zn       indus        chas         nox          rm  \\\n",
       "count  506.000000  506.000000  506.000000  506.000000  506.000000  506.000000   \n",
       "mean     3.613524   11.363636   11.136779    0.069170    0.554695    6.284634   \n",
       "std      8.601545   23.322453    6.860353    0.253994    0.115878    0.702617   \n",
       "min      0.006320    0.000000    0.460000    0.000000    0.385000    3.561000   \n",
       "25%      0.082045    0.000000    5.190000    0.000000    0.449000    5.885500   \n",
       "50%      0.256510    0.000000    9.690000    0.000000    0.538000    6.208500   \n",
       "75%      3.677083   12.500000   18.100000    0.000000    0.624000    6.623500   \n",
       "max     88.976200  100.000000   27.740000    1.000000    0.871000    8.780000   \n",
       "\n",
       "              age         dis         rad         tax     ptratio           b  \\\n",
       "count  506.000000  506.000000  506.000000  506.000000  506.000000  506.000000   \n",
       "mean    68.574901    3.795043    9.549407  408.237154   18.455534  356.674032   \n",
       "std     28.148861    2.105710    8.707259  168.537116    2.164946   91.294864   \n",
       "min      2.900000    1.129600    1.000000  187.000000   12.600000    0.320000   \n",
       "25%     45.025000    2.100175    4.000000  279.000000   17.400000  375.377500   \n",
       "50%     77.500000    3.207450    5.000000  330.000000   19.050000  391.440000   \n",
       "75%     94.075000    5.188425   24.000000  666.000000   20.200000  396.225000   \n",
       "max    100.000000   12.126500   24.000000  711.000000   22.000000  396.900000   \n",
       "\n",
       "            lstat        MEDV  \n",
       "count  506.000000  506.000000  \n",
       "mean    12.653063   22.532806  \n",
       "std      7.141062    9.197104  \n",
       "min      1.730000    5.000000  \n",
       "25%      6.950000   17.025000  \n",
       "50%     11.360000   21.200000  \n",
       "75%     16.955000   25.000000  \n",
       "max     37.970000   50.000000  "
      ]
     },
     "execution_count": 7,
     "metadata": {},
     "output_type": "execute_result"
    }
   ],
   "source": [
    "df.describe()"
   ]
  },
  {
   "cell_type": "code",
   "execution_count": 15,
   "id": "af38a141-3dbe-4543-838c-e1f65e2c1064",
   "metadata": {},
   "outputs": [
    {
     "name": "stdout",
     "output_type": "stream",
     "text": [
      "(354, 13) (354, 1) (152, 13) (152, 1)\n"
     ]
    },
    {
     "data": {
      "text/plain": [
       "(354, 13)"
      ]
     },
     "execution_count": 15,
     "metadata": {},
     "output_type": "execute_result"
    }
   ],
   "source": [
    "# define independent and target variables\n",
    "X = df.loc[:, df.columns != 'MEDV']\n",
    "Y = df.loc[:, df.columns == 'MEDV']\n",
    "\n",
    "# split train and test data\n",
    "x_train, x_test, y_train, y_test = train_test_split(X, Y, test_size=0.3, random_state=42)\n",
    "print(f\"{x_train.shape} {y_train.shape} {x_test.shape} {y_test.shape}\")\n",
    "x_train.shape"
   ]
  },
  {
   "cell_type": "code",
   "execution_count": 16,
   "id": "3475deae-e092-4315-a41f-8b139dc20488",
   "metadata": {},
   "outputs": [
    {
     "name": "stdout",
     "output_type": "stream",
     "text": [
      "[[-0.41425879 -0.50512499 -1.29214218 -0.28154625 -0.85108479  0.14526384\n",
      "  -0.365584    1.08162833 -0.74617905 -1.11279004  0.18727079  0.39651419\n",
      "  -1.01531611]\n",
      " [-0.40200818 -0.50512499 -0.16208345 -0.28154625 -0.08796708 -0.20840082\n",
      "   0.13394078 -0.48787608 -0.39846419  0.15008778 -0.21208981  0.3870674\n",
      "  -0.05366252]\n",
      " [-0.39721053 -0.50512499 -0.60948856 -0.28154625 -0.93682836 -0.89623682\n",
      "  -1.26690045  0.62859591 -0.74617905 -1.0466393  -0.16771641  0.42854113\n",
      "  -0.31132373]\n",
      " [-0.29093623 -0.50512499 -0.43196976 -0.28154625 -0.16513629 -0.54396454\n",
      "  -1.42978896  0.3451327  -0.6302741  -0.60162521  1.20785901  0.31276028\n",
      "  -0.82242219]\n",
      " [ 1.45781561 -0.50512499  1.00549958 -0.28154625  0.19498668 -0.55649596\n",
      "   0.07964461 -0.40389221  1.68782492  1.5572945   0.8528718   0.10412434\n",
      "   0.8038002 ]]\n"
     ]
    }
   ],
   "source": [
    "# transform / normalize data\n",
    "scaler = StandardScaler()\n",
    "x_train = scaler.fit_transform(x_train)\n",
    "x_test = scaler.transform(x_test)\n",
    "print(x_train[:5])"
   ]
  },
  {
   "cell_type": "code",
   "execution_count": 17,
   "id": "df5449c6-7d40-4ebe-9aa9-26f9f71e9e3d",
   "metadata": {},
   "outputs": [
    {
     "name": "stderr",
     "output_type": "stream",
     "text": [
      "C:\\Users\\ASHWIN\\AppData\\Roaming\\Python\\Python312\\site-packages\\keras\\src\\layers\\core\\dense.py:87: UserWarning: Do not pass an `input_shape`/`input_dim` argument to a layer. When using Sequential models, prefer using an `Input(shape)` object as the first layer in the model instead.\n",
      "  super().__init__(activity_regularizer=activity_regularizer, **kwargs)\n"
     ]
    }
   ],
   "source": [
    "# create model and add layers to model\n",
    "model = models.Sequential([\n",
    "    layers.Dense(64, activation='relu', input_shape=(x_train.shape[1],)),\n",
    "    layers.Dense(32, activation='relu'),\n",
    "    layers.Dense(1)\n",
    "])"
   ]
  },
  {
   "cell_type": "code",
   "execution_count": 18,
   "id": "f708460e-a7df-4867-a51a-b77916eb4208",
   "metadata": {},
   "outputs": [],
   "source": [
    "model.compile(optimizer='adam', loss='mse', metrics=['mae'])"
   ]
  },
  {
   "cell_type": "code",
   "execution_count": 19,
   "id": "9962364e-34bb-4d90-bf0e-57ef0497a334",
   "metadata": {},
   "outputs": [
    {
     "name": "stdout",
     "output_type": "stream",
     "text": [
      "Epoch 1/100\n",
      "20/20 - 1s - 55ms/step - loss: 577.0522 - mae: 22.1578 - val_loss: 522.5591 - val_mae: 21.2160\n",
      "Epoch 2/100\n",
      "20/20 - 0s - 7ms/step - loss: 506.8184 - mae: 20.5193 - val_loss: 441.2133 - val_mae: 19.2652\n",
      "Epoch 3/100\n",
      "20/20 - 0s - 8ms/step - loss: 404.6811 - mae: 17.9264 - val_loss: 323.4724 - val_mae: 16.0891\n",
      "Epoch 4/100\n",
      "20/20 - 0s - 7ms/step - loss: 270.2527 - mae: 13.9827 - val_loss: 190.9402 - val_mae: 11.6133\n",
      "Epoch 5/100\n",
      "20/20 - 0s - 8ms/step - loss: 151.6188 - mae: 9.7066 - val_loss: 98.9137 - val_mae: 7.2522\n",
      "Epoch 6/100\n",
      "20/20 - 0s - 7ms/step - loss: 90.6150 - mae: 7.2945 - val_loss: 61.0853 - val_mae: 5.3133\n",
      "Epoch 7/100\n",
      "20/20 - 0s - 7ms/step - loss: 61.1672 - mae: 6.0186 - val_loss: 45.1113 - val_mae: 4.2828\n",
      "Epoch 8/100\n",
      "20/20 - 0s - 7ms/step - loss: 42.1782 - mae: 4.9375 - val_loss: 38.9625 - val_mae: 3.6952\n",
      "Epoch 9/100\n",
      "20/20 - 0s - 7ms/step - loss: 33.3981 - mae: 4.3521 - val_loss: 36.6291 - val_mae: 3.7720\n",
      "Epoch 10/100\n",
      "20/20 - 0s - 7ms/step - loss: 27.9442 - mae: 3.9935 - val_loss: 35.6552 - val_mae: 3.8577\n",
      "Epoch 11/100\n",
      "20/20 - 0s - 7ms/step - loss: 25.0014 - mae: 3.8059 - val_loss: 35.2215 - val_mae: 3.8529\n",
      "Epoch 12/100\n",
      "20/20 - 0s - 7ms/step - loss: 23.1642 - mae: 3.6407 - val_loss: 35.5244 - val_mae: 3.8957\n",
      "Epoch 13/100\n",
      "20/20 - 0s - 7ms/step - loss: 21.6613 - mae: 3.4950 - val_loss: 34.7950 - val_mae: 3.8732\n",
      "Epoch 14/100\n",
      "20/20 - 0s - 7ms/step - loss: 20.4247 - mae: 3.3984 - val_loss: 33.7900 - val_mae: 3.8221\n",
      "Epoch 15/100\n",
      "20/20 - 0s - 7ms/step - loss: 19.4001 - mae: 3.3272 - val_loss: 32.6507 - val_mae: 3.7606\n",
      "Epoch 16/100\n",
      "20/20 - 0s - 8ms/step - loss: 18.4537 - mae: 3.2381 - val_loss: 32.4127 - val_mae: 3.7521\n",
      "Epoch 17/100\n",
      "20/20 - 0s - 8ms/step - loss: 17.6226 - mae: 3.1701 - val_loss: 31.5012 - val_mae: 3.7273\n",
      "Epoch 18/100\n",
      "20/20 - 0s - 7ms/step - loss: 16.8788 - mae: 3.1069 - val_loss: 30.8941 - val_mae: 3.6878\n",
      "Epoch 19/100\n",
      "20/20 - 0s - 7ms/step - loss: 16.3415 - mae: 3.0325 - val_loss: 30.7677 - val_mae: 3.6853\n",
      "Epoch 20/100\n",
      "20/20 - 0s - 7ms/step - loss: 15.7665 - mae: 2.9784 - val_loss: 30.2061 - val_mae: 3.6589\n",
      "Epoch 21/100\n",
      "20/20 - 0s - 7ms/step - loss: 15.4011 - mae: 2.9401 - val_loss: 30.2325 - val_mae: 3.6634\n",
      "Epoch 22/100\n",
      "20/20 - 0s - 8ms/step - loss: 14.8489 - mae: 2.8745 - val_loss: 28.3922 - val_mae: 3.5135\n",
      "Epoch 23/100\n",
      "20/20 - 0s - 8ms/step - loss: 14.4944 - mae: 2.8471 - val_loss: 28.2257 - val_mae: 3.5415\n",
      "Epoch 24/100\n",
      "20/20 - 0s - 11ms/step - loss: 13.9470 - mae: 2.7751 - val_loss: 27.8657 - val_mae: 3.5344\n",
      "Epoch 25/100\n",
      "20/20 - 0s - 10ms/step - loss: 13.6615 - mae: 2.7650 - val_loss: 27.9196 - val_mae: 3.5261\n",
      "Epoch 26/100\n",
      "20/20 - 0s - 9ms/step - loss: 13.3159 - mae: 2.7192 - val_loss: 27.2410 - val_mae: 3.4570\n",
      "Epoch 27/100\n",
      "20/20 - 0s - 8ms/step - loss: 13.0436 - mae: 2.6827 - val_loss: 26.5887 - val_mae: 3.4146\n",
      "Epoch 28/100\n",
      "20/20 - 0s - 11ms/step - loss: 12.7613 - mae: 2.6564 - val_loss: 26.6926 - val_mae: 3.4159\n",
      "Epoch 29/100\n",
      "20/20 - 0s - 10ms/step - loss: 12.5457 - mae: 2.6362 - val_loss: 25.9839 - val_mae: 3.3856\n",
      "Epoch 30/100\n",
      "20/20 - 0s - 8ms/step - loss: 12.2391 - mae: 2.6018 - val_loss: 26.2252 - val_mae: 3.4280\n",
      "Epoch 31/100\n",
      "20/20 - 0s - 8ms/step - loss: 12.0300 - mae: 2.5862 - val_loss: 25.4487 - val_mae: 3.3458\n",
      "Epoch 32/100\n",
      "20/20 - 0s - 7ms/step - loss: 11.8137 - mae: 2.5625 - val_loss: 25.0125 - val_mae: 3.3463\n",
      "Epoch 33/100\n",
      "20/20 - 0s - 7ms/step - loss: 11.5689 - mae: 2.5356 - val_loss: 25.2798 - val_mae: 3.3684\n",
      "Epoch 34/100\n",
      "20/20 - 0s - 7ms/step - loss: 11.3942 - mae: 2.5130 - val_loss: 24.3125 - val_mae: 3.2826\n",
      "Epoch 35/100\n",
      "20/20 - 0s - 7ms/step - loss: 11.2347 - mae: 2.4923 - val_loss: 24.4308 - val_mae: 3.3082\n",
      "Epoch 36/100\n",
      "20/20 - 0s - 7ms/step - loss: 11.0870 - mae: 2.4772 - val_loss: 24.1990 - val_mae: 3.2886\n",
      "Epoch 37/100\n",
      "20/20 - 0s - 8ms/step - loss: 10.8854 - mae: 2.4601 - val_loss: 23.6987 - val_mae: 3.2768\n",
      "Epoch 38/100\n",
      "20/20 - 0s - 9ms/step - loss: 10.7931 - mae: 2.4437 - val_loss: 23.8226 - val_mae: 3.2922\n",
      "Epoch 39/100\n",
      "20/20 - 0s - 11ms/step - loss: 10.7499 - mae: 2.4302 - val_loss: 23.5063 - val_mae: 3.2723\n",
      "Epoch 40/100\n",
      "20/20 - 0s - 11ms/step - loss: 10.3964 - mae: 2.4003 - val_loss: 23.7026 - val_mae: 3.2793\n",
      "Epoch 41/100\n",
      "20/20 - 0s - 17ms/step - loss: 10.3783 - mae: 2.3946 - val_loss: 22.8580 - val_mae: 3.2382\n",
      "Epoch 42/100\n",
      "20/20 - 0s - 10ms/step - loss: 10.1717 - mae: 2.3637 - val_loss: 22.6217 - val_mae: 3.1968\n",
      "Epoch 43/100\n",
      "20/20 - 0s - 10ms/step - loss: 10.0080 - mae: 2.3456 - val_loss: 23.2896 - val_mae: 3.2326\n",
      "Epoch 44/100\n",
      "20/20 - 0s - 9ms/step - loss: 9.9597 - mae: 2.3331 - val_loss: 22.4393 - val_mae: 3.1920\n",
      "Epoch 45/100\n",
      "20/20 - 0s - 10ms/step - loss: 9.9245 - mae: 2.3298 - val_loss: 22.3762 - val_mae: 3.1921\n",
      "Epoch 46/100\n",
      "20/20 - 0s - 10ms/step - loss: 9.7812 - mae: 2.3166 - val_loss: 22.6867 - val_mae: 3.2298\n",
      "Epoch 47/100\n",
      "20/20 - 0s - 10ms/step - loss: 9.8777 - mae: 2.3192 - val_loss: 22.9474 - val_mae: 3.2060\n",
      "Epoch 48/100\n",
      "20/20 - 0s - 9ms/step - loss: 9.7709 - mae: 2.3463 - val_loss: 21.3200 - val_mae: 3.0935\n",
      "Epoch 49/100\n",
      "20/20 - 0s - 8ms/step - loss: 9.5125 - mae: 2.2752 - val_loss: 22.8322 - val_mae: 3.2261\n",
      "Epoch 50/100\n",
      "20/20 - 0s - 8ms/step - loss: 9.1434 - mae: 2.2414 - val_loss: 21.7762 - val_mae: 3.1499\n",
      "Epoch 51/100\n",
      "20/20 - 0s - 7ms/step - loss: 9.2339 - mae: 2.2409 - val_loss: 21.6269 - val_mae: 3.1371\n",
      "Epoch 52/100\n",
      "20/20 - 0s - 8ms/step - loss: 9.0087 - mae: 2.2184 - val_loss: 22.1783 - val_mae: 3.1633\n",
      "Epoch 53/100\n",
      "20/20 - 0s - 7ms/step - loss: 8.9763 - mae: 2.2237 - val_loss: 20.9768 - val_mae: 3.0832\n",
      "Epoch 54/100\n",
      "20/20 - 0s - 7ms/step - loss: 8.9679 - mae: 2.2090 - val_loss: 20.7693 - val_mae: 3.0840\n",
      "Epoch 55/100\n",
      "20/20 - 0s - 8ms/step - loss: 8.6943 - mae: 2.1879 - val_loss: 21.6231 - val_mae: 3.1371\n",
      "Epoch 56/100\n",
      "20/20 - 0s - 7ms/step - loss: 8.7016 - mae: 2.1824 - val_loss: 21.6305 - val_mae: 3.1168\n",
      "Epoch 57/100\n",
      "20/20 - 0s - 7ms/step - loss: 8.6708 - mae: 2.1779 - val_loss: 21.3023 - val_mae: 3.0805\n",
      "Epoch 58/100\n",
      "20/20 - 0s - 7ms/step - loss: 8.4920 - mae: 2.1624 - val_loss: 20.4979 - val_mae: 3.0449\n",
      "Epoch 59/100\n",
      "20/20 - 0s - 8ms/step - loss: 8.5776 - mae: 2.1780 - val_loss: 20.4280 - val_mae: 3.0295\n",
      "Epoch 60/100\n",
      "20/20 - 0s - 7ms/step - loss: 8.3837 - mae: 2.1580 - val_loss: 20.5692 - val_mae: 3.0504\n",
      "Epoch 61/100\n",
      "20/20 - 0s - 8ms/step - loss: 8.2485 - mae: 2.1369 - val_loss: 20.3898 - val_mae: 3.0548\n",
      "Epoch 62/100\n",
      "20/20 - 0s - 10ms/step - loss: 8.2232 - mae: 2.1493 - val_loss: 20.1972 - val_mae: 3.0131\n",
      "Epoch 63/100\n",
      "20/20 - 0s - 11ms/step - loss: 8.1606 - mae: 2.1258 - val_loss: 20.3240 - val_mae: 3.0325\n",
      "Epoch 64/100\n",
      "20/20 - 0s - 10ms/step - loss: 8.2217 - mae: 2.1481 - val_loss: 19.8372 - val_mae: 2.9976\n",
      "Epoch 65/100\n",
      "20/20 - 0s - 10ms/step - loss: 8.1154 - mae: 2.1232 - val_loss: 20.1706 - val_mae: 3.0356\n",
      "Epoch 66/100\n",
      "20/20 - 0s - 9ms/step - loss: 8.0548 - mae: 2.1207 - val_loss: 19.9694 - val_mae: 2.9961\n",
      "Epoch 67/100\n",
      "20/20 - 0s - 12ms/step - loss: 8.0465 - mae: 2.1129 - val_loss: 20.5141 - val_mae: 3.0439\n",
      "Epoch 68/100\n",
      "20/20 - 0s - 10ms/step - loss: 7.8503 - mae: 2.1109 - val_loss: 19.7604 - val_mae: 3.0076\n",
      "Epoch 69/100\n",
      "20/20 - 0s - 10ms/step - loss: 7.7721 - mae: 2.0775 - val_loss: 19.6417 - val_mae: 2.9679\n",
      "Epoch 70/100\n",
      "20/20 - 0s - 11ms/step - loss: 7.8951 - mae: 2.1416 - val_loss: 19.6927 - val_mae: 2.9966\n",
      "Epoch 71/100\n",
      "20/20 - 0s - 9ms/step - loss: 7.7414 - mae: 2.0937 - val_loss: 20.0192 - val_mae: 2.9963\n",
      "Epoch 72/100\n",
      "20/20 - 0s - 8ms/step - loss: 7.6024 - mae: 2.1077 - val_loss: 18.7047 - val_mae: 2.8915\n",
      "Epoch 73/100\n",
      "20/20 - 0s - 8ms/step - loss: 7.5601 - mae: 2.0667 - val_loss: 19.5912 - val_mae: 3.0191\n",
      "Epoch 74/100\n",
      "20/20 - 0s - 7ms/step - loss: 7.4133 - mae: 2.0420 - val_loss: 19.4455 - val_mae: 2.9672\n",
      "Epoch 75/100\n",
      "20/20 - 0s - 8ms/step - loss: 7.3533 - mae: 2.0420 - val_loss: 19.3378 - val_mae: 2.9630\n",
      "Epoch 76/100\n",
      "20/20 - 0s - 9ms/step - loss: 7.1553 - mae: 2.0112 - val_loss: 18.7853 - val_mae: 2.9466\n",
      "Epoch 77/100\n",
      "20/20 - 0s - 8ms/step - loss: 7.1307 - mae: 2.0211 - val_loss: 19.1909 - val_mae: 2.9674\n",
      "Epoch 78/100\n",
      "20/20 - 0s - 9ms/step - loss: 7.2515 - mae: 2.0307 - val_loss: 18.7215 - val_mae: 2.8982\n",
      "Epoch 79/100\n",
      "20/20 - 0s - 9ms/step - loss: 6.9628 - mae: 1.9944 - val_loss: 18.9096 - val_mae: 2.9311\n",
      "Epoch 80/100\n",
      "20/20 - 0s - 9ms/step - loss: 6.9600 - mae: 1.9983 - val_loss: 19.1219 - val_mae: 2.9619\n",
      "Epoch 81/100\n",
      "20/20 - 0s - 9ms/step - loss: 6.8871 - mae: 1.9964 - val_loss: 18.1354 - val_mae: 2.8662\n",
      "Epoch 82/100\n",
      "20/20 - 0s - 9ms/step - loss: 6.8402 - mae: 1.9830 - val_loss: 18.5974 - val_mae: 2.9021\n",
      "Epoch 83/100\n",
      "20/20 - 0s - 9ms/step - loss: 6.7825 - mae: 1.9776 - val_loss: 18.5299 - val_mae: 2.9265\n",
      "Epoch 84/100\n",
      "20/20 - 0s - 9ms/step - loss: 6.8640 - mae: 1.9984 - val_loss: 17.8390 - val_mae: 2.8022\n",
      "Epoch 85/100\n",
      "20/20 - 0s - 9ms/step - loss: 6.8573 - mae: 1.9939 - val_loss: 18.6906 - val_mae: 2.9248\n",
      "Epoch 86/100\n",
      "20/20 - 0s - 9ms/step - loss: 6.7718 - mae: 1.9753 - val_loss: 18.2005 - val_mae: 2.8629\n",
      "Epoch 87/100\n",
      "20/20 - 0s - 9ms/step - loss: 6.4971 - mae: 1.9463 - val_loss: 17.9092 - val_mae: 2.8644\n",
      "Epoch 88/100\n",
      "20/20 - 0s - 9ms/step - loss: 6.4261 - mae: 1.9310 - val_loss: 18.1923 - val_mae: 2.8804\n",
      "Epoch 89/100\n",
      "20/20 - 0s - 8ms/step - loss: 6.4342 - mae: 1.9315 - val_loss: 17.9374 - val_mae: 2.8935\n",
      "Epoch 90/100\n",
      "20/20 - 0s - 7ms/step - loss: 6.5066 - mae: 1.9448 - val_loss: 18.4861 - val_mae: 2.9369\n",
      "Epoch 91/100\n",
      "20/20 - 0s - 7ms/step - loss: 6.3236 - mae: 1.9257 - val_loss: 17.3646 - val_mae: 2.8167\n",
      "Epoch 92/100\n",
      "20/20 - 0s - 8ms/step - loss: 6.2330 - mae: 1.9177 - val_loss: 17.9910 - val_mae: 2.8888\n",
      "Epoch 93/100\n",
      "20/20 - 0s - 7ms/step - loss: 6.3512 - mae: 1.9384 - val_loss: 17.2767 - val_mae: 2.7899\n",
      "Epoch 94/100\n",
      "20/20 - 0s - 9ms/step - loss: 6.1314 - mae: 1.8911 - val_loss: 18.5357 - val_mae: 2.9546\n",
      "Epoch 95/100\n",
      "20/20 - 0s - 8ms/step - loss: 6.3072 - mae: 1.9468 - val_loss: 17.3338 - val_mae: 2.8099\n",
      "Epoch 96/100\n",
      "20/20 - 0s - 9ms/step - loss: 6.1147 - mae: 1.9113 - val_loss: 17.6720 - val_mae: 2.8813\n",
      "Epoch 97/100\n",
      "20/20 - 0s - 9ms/step - loss: 5.9959 - mae: 1.8818 - val_loss: 17.4130 - val_mae: 2.8627\n",
      "Epoch 98/100\n",
      "20/20 - 0s - 9ms/step - loss: 6.2834 - mae: 1.9376 - val_loss: 18.0142 - val_mae: 2.8658\n",
      "Epoch 99/100\n",
      "20/20 - 0s - 9ms/step - loss: 6.0478 - mae: 1.8831 - val_loss: 17.6556 - val_mae: 2.9210\n",
      "Epoch 100/100\n",
      "20/20 - 0s - 10ms/step - loss: 5.9154 - mae: 1.8721 - val_loss: 17.4183 - val_mae: 2.8255\n"
     ]
    }
   ],
   "source": [
    "history = model.fit(x_train, y_train, epochs=100, batch_size=16, verbose=2, validation_split=0.1)"
   ]
  },
  {
   "cell_type": "code",
   "execution_count": 24,
   "id": "752dd6a2-de58-4227-85ad-e9e4018febc0",
   "metadata": {},
   "outputs": [
    {
     "name": "stdout",
     "output_type": "stream",
     "text": [
      "\u001b[1m5/5\u001b[0m \u001b[32m━━━━━━━━━━━━━━━━━━━━\u001b[0m\u001b[37m\u001b[0m \u001b[1m0s\u001b[0m 9ms/step - loss: 9.7440 - mae: 2.1655 \n"
     ]
    }
   ],
   "source": [
    "# evaluate model\n",
    "loss, mae = model.evaluate(x_test, y_test, verbose=1)"
   ]
  },
  {
   "cell_type": "code",
   "execution_count": 25,
   "id": "b963b820-e2b0-4f49-8496-96b79642f585",
   "metadata": {},
   "outputs": [
    {
     "name": "stdout",
     "output_type": "stream",
     "text": [
      "\u001b[1m5/5\u001b[0m \u001b[32m━━━━━━━━━━━━━━━━━━━━\u001b[0m\u001b[37m\u001b[0m \u001b[1m0s\u001b[0m 7ms/step \n"
     ]
    },
    {
     "data": {
      "text/plain": [
       "array([[25.891682 ],\n",
       "       [35.14415  ],\n",
       "       [15.38632  ],\n",
       "       [25.513504 ],\n",
       "       [15.888091 ],\n",
       "       [19.559303 ],\n",
       "       [16.08518  ],\n",
       "       [15.032923 ],\n",
       "       [25.145168 ],\n",
       "       [18.041866 ],\n",
       "       [21.334194 ],\n",
       "       [17.48721  ],\n",
       "       [ 1.9686747],\n",
       "       [18.363003 ],\n",
       "       [18.122189 ],\n",
       "       [22.849434 ],\n",
       "       [20.210606 ],\n",
       "       [ 9.668075 ],\n",
       "       [45.821663 ],\n",
       "       [13.296799 ],\n",
       "       [25.263208 ],\n",
       "       [26.152292 ],\n",
       "       [14.952125 ],\n",
       "       [23.128204 ],\n",
       "       [16.477827 ],\n",
       "       [17.148289 ],\n",
       "       [20.513489 ],\n",
       "       [11.427589 ],\n",
       "       [19.800129 ],\n",
       "       [16.971952 ],\n",
       "       [21.741943 ],\n",
       "       [23.332975 ],\n",
       "       [17.490139 ],\n",
       "       [25.540247 ],\n",
       "       [13.717487 ],\n",
       "       [15.558923 ],\n",
       "       [30.728924 ],\n",
       "       [21.363937 ],\n",
       "       [19.81836  ],\n",
       "       [24.956764 ],\n",
       "       [15.690471 ],\n",
       "       [28.932495 ],\n",
       "       [49.20633  ],\n",
       "       [17.902922 ],\n",
       "       [25.522057 ],\n",
       "       [16.938818 ],\n",
       "       [16.434574 ],\n",
       "       [26.650686 ],\n",
       "       [18.727821 ],\n",
       "       [25.044062 ],\n",
       "       [18.331602 ],\n",
       "       [35.158695 ],\n",
       "       [16.954695 ],\n",
       "       [25.126661 ],\n",
       "       [43.322105 ],\n",
       "       [22.233374 ],\n",
       "       [17.005266 ],\n",
       "       [32.800335 ],\n",
       "       [24.967588 ],\n",
       "       [15.466829 ],\n",
       "       [24.746948 ],\n",
       "       [34.948616 ],\n",
       "       [32.08801  ],\n",
       "       [17.201727 ],\n",
       "       [23.137829 ],\n",
       "       [16.554474 ],\n",
       "       [15.50683  ],\n",
       "       [23.485426 ],\n",
       "       [28.966633 ],\n",
       "       [12.735321 ],\n",
       "       [22.102364 ],\n",
       "       [28.677603 ],\n",
       "       [ 7.7478466],\n",
       "       [22.557259 ],\n",
       "       [21.082706 ],\n",
       "       [ 5.179443 ],\n",
       "       [21.231003 ],\n",
       "       [46.671097 ],\n",
       "       [11.190551 ],\n",
       "       [11.470499 ],\n",
       "       [20.096094 ],\n",
       "       [11.481657 ],\n",
       "       [21.255613 ],\n",
       "       [11.250439 ],\n",
       "       [19.949522 ],\n",
       "       [26.585625 ],\n",
       "       [13.178682 ],\n",
       "       [23.97466  ],\n",
       "       [26.097458 ],\n",
       "       [18.851118 ],\n",
       "       [23.52142  ],\n",
       "       [ 5.2158027],\n",
       "       [18.865725 ],\n",
       "       [18.090797 ],\n",
       "       [37.25083  ],\n",
       "       [20.133419 ],\n",
       "       [29.307663 ],\n",
       "       [ 6.741794 ],\n",
       "       [10.693024 ],\n",
       "       [11.476651 ],\n",
       "       [23.21856  ],\n",
       "       [21.561672 ],\n",
       "       [ 9.63859  ],\n",
       "       [19.028992 ],\n",
       "       [17.853977 ],\n",
       "       [11.336204 ],\n",
       "       [18.738266 ],\n",
       "       [25.234041 ],\n",
       "       [22.535429 ],\n",
       "       [23.946842 ],\n",
       "       [ 7.5192666],\n",
       "       [11.164581 ],\n",
       "       [23.26074  ],\n",
       "       [27.735111 ],\n",
       "       [30.36985  ],\n",
       "       [11.271452 ],\n",
       "       [38.807404 ],\n",
       "       [15.346569 ],\n",
       "       [19.895287 ],\n",
       "       [25.088493 ],\n",
       "       [16.159876 ],\n",
       "       [25.535187 ],\n",
       "       [ 3.4196146],\n",
       "       [19.879288 ],\n",
       "       [25.866413 ],\n",
       "       [20.866386 ],\n",
       "       [24.173939 ],\n",
       "       [33.31598  ],\n",
       "       [14.16658  ],\n",
       "       [43.097923 ],\n",
       "       [16.288357 ],\n",
       "       [23.006378 ],\n",
       "       [16.782017 ],\n",
       "       [17.475824 ],\n",
       "       [13.299106 ],\n",
       "       [18.77124  ],\n",
       "       [23.210867 ],\n",
       "       [30.872086 ],\n",
       "       [28.272745 ],\n",
       "       [16.87096  ],\n",
       "       [16.871649 ],\n",
       "       [24.80489  ],\n",
       "       [19.840816 ],\n",
       "       [15.641188 ],\n",
       "       [ 4.4209695],\n",
       "       [21.255465 ],\n",
       "       [14.226007 ],\n",
       "       [12.42725  ],\n",
       "       [16.607769 ],\n",
       "       [48.210083 ],\n",
       "       [13.430641 ],\n",
       "       [14.027201 ]], dtype=float32)"
      ]
     },
     "execution_count": 25,
     "metadata": {},
     "output_type": "execute_result"
    }
   ],
   "source": [
    "y_pred = model.predict(x_test)\n",
    "y_pred"
   ]
  },
  {
   "cell_type": "code",
   "execution_count": 26,
   "id": "efe7f709-6de8-4163-bfb6-cb8426ff2cab",
   "metadata": {},
   "outputs": [
    {
     "data": {
      "text/plain": [
       "2.2763893604278564"
      ]
     },
     "execution_count": 26,
     "metadata": {},
     "output_type": "execute_result"
    }
   ],
   "source": [
    "mean_absolute_error(y_test, y_pred)"
   ]
  },
  {
   "cell_type": "code",
   "execution_count": 27,
   "id": "0b14a3cd-af11-47f0-9471-801a6ac73ee2",
   "metadata": {},
   "outputs": [
    {
     "data": {
      "text/plain": [
       "12.16464900970459"
      ]
     },
     "execution_count": 27,
     "metadata": {},
     "output_type": "execute_result"
    }
   ],
   "source": [
    "mean_squared_error(y_test, y_pred)"
   ]
  },
  {
   "cell_type": "code",
   "execution_count": 28,
   "id": "034af074-46df-48d2-b151-3a34734d9ebf",
   "metadata": {},
   "outputs": [
    {
     "data": {
      "text/html": [
       "<pre style=\"white-space:pre;overflow-x:auto;line-height:normal;font-family:Menlo,'DejaVu Sans Mono',consolas,'Courier New',monospace\"><span style=\"font-weight: bold\">Model: \"sequential\"</span>\n",
       "</pre>\n"
      ],
      "text/plain": [
       "\u001b[1mModel: \"sequential\"\u001b[0m\n"
      ]
     },
     "metadata": {},
     "output_type": "display_data"
    },
    {
     "data": {
      "text/html": [
       "<pre style=\"white-space:pre;overflow-x:auto;line-height:normal;font-family:Menlo,'DejaVu Sans Mono',consolas,'Courier New',monospace\">┏━━━━━━━━━━━━━━━━━━━━━━━━━━━━━━━━━━━━━━┳━━━━━━━━━━━━━━━━━━━━━━━━━━━━━┳━━━━━━━━━━━━━━━━━┓\n",
       "┃<span style=\"font-weight: bold\"> Layer (type)                         </span>┃<span style=\"font-weight: bold\"> Output Shape                </span>┃<span style=\"font-weight: bold\">         Param # </span>┃\n",
       "┡━━━━━━━━━━━━━━━━━━━━━━━━━━━━━━━━━━━━━━╇━━━━━━━━━━━━━━━━━━━━━━━━━━━━━╇━━━━━━━━━━━━━━━━━┩\n",
       "│ dense (<span style=\"color: #0087ff; text-decoration-color: #0087ff\">Dense</span>)                        │ (<span style=\"color: #00d7ff; text-decoration-color: #00d7ff\">None</span>, <span style=\"color: #00af00; text-decoration-color: #00af00\">64</span>)                  │             <span style=\"color: #00af00; text-decoration-color: #00af00\">896</span> │\n",
       "├──────────────────────────────────────┼─────────────────────────────┼─────────────────┤\n",
       "│ dense_1 (<span style=\"color: #0087ff; text-decoration-color: #0087ff\">Dense</span>)                      │ (<span style=\"color: #00d7ff; text-decoration-color: #00d7ff\">None</span>, <span style=\"color: #00af00; text-decoration-color: #00af00\">32</span>)                  │           <span style=\"color: #00af00; text-decoration-color: #00af00\">2,080</span> │\n",
       "├──────────────────────────────────────┼─────────────────────────────┼─────────────────┤\n",
       "│ dense_2 (<span style=\"color: #0087ff; text-decoration-color: #0087ff\">Dense</span>)                      │ (<span style=\"color: #00d7ff; text-decoration-color: #00d7ff\">None</span>, <span style=\"color: #00af00; text-decoration-color: #00af00\">1</span>)                   │              <span style=\"color: #00af00; text-decoration-color: #00af00\">33</span> │\n",
       "└──────────────────────────────────────┴─────────────────────────────┴─────────────────┘\n",
       "</pre>\n"
      ],
      "text/plain": [
       "┏━━━━━━━━━━━━━━━━━━━━━━━━━━━━━━━━━━━━━━┳━━━━━━━━━━━━━━━━━━━━━━━━━━━━━┳━━━━━━━━━━━━━━━━━┓\n",
       "┃\u001b[1m \u001b[0m\u001b[1mLayer (type)                        \u001b[0m\u001b[1m \u001b[0m┃\u001b[1m \u001b[0m\u001b[1mOutput Shape               \u001b[0m\u001b[1m \u001b[0m┃\u001b[1m \u001b[0m\u001b[1m        Param #\u001b[0m\u001b[1m \u001b[0m┃\n",
       "┡━━━━━━━━━━━━━━━━━━━━━━━━━━━━━━━━━━━━━━╇━━━━━━━━━━━━━━━━━━━━━━━━━━━━━╇━━━━━━━━━━━━━━━━━┩\n",
       "│ dense (\u001b[38;5;33mDense\u001b[0m)                        │ (\u001b[38;5;45mNone\u001b[0m, \u001b[38;5;34m64\u001b[0m)                  │             \u001b[38;5;34m896\u001b[0m │\n",
       "├──────────────────────────────────────┼─────────────────────────────┼─────────────────┤\n",
       "│ dense_1 (\u001b[38;5;33mDense\u001b[0m)                      │ (\u001b[38;5;45mNone\u001b[0m, \u001b[38;5;34m32\u001b[0m)                  │           \u001b[38;5;34m2,080\u001b[0m │\n",
       "├──────────────────────────────────────┼─────────────────────────────┼─────────────────┤\n",
       "│ dense_2 (\u001b[38;5;33mDense\u001b[0m)                      │ (\u001b[38;5;45mNone\u001b[0m, \u001b[38;5;34m1\u001b[0m)                   │              \u001b[38;5;34m33\u001b[0m │\n",
       "└──────────────────────────────────────┴─────────────────────────────┴─────────────────┘\n"
      ]
     },
     "metadata": {},
     "output_type": "display_data"
    },
    {
     "data": {
      "text/html": [
       "<pre style=\"white-space:pre;overflow-x:auto;line-height:normal;font-family:Menlo,'DejaVu Sans Mono',consolas,'Courier New',monospace\"><span style=\"font-weight: bold\"> Total params: </span><span style=\"color: #00af00; text-decoration-color: #00af00\">9,029</span> (35.27 KB)\n",
       "</pre>\n"
      ],
      "text/plain": [
       "\u001b[1m Total params: \u001b[0m\u001b[38;5;34m9,029\u001b[0m (35.27 KB)\n"
      ]
     },
     "metadata": {},
     "output_type": "display_data"
    },
    {
     "data": {
      "text/html": [
       "<pre style=\"white-space:pre;overflow-x:auto;line-height:normal;font-family:Menlo,'DejaVu Sans Mono',consolas,'Courier New',monospace\"><span style=\"font-weight: bold\"> Trainable params: </span><span style=\"color: #00af00; text-decoration-color: #00af00\">3,009</span> (11.75 KB)\n",
       "</pre>\n"
      ],
      "text/plain": [
       "\u001b[1m Trainable params: \u001b[0m\u001b[38;5;34m3,009\u001b[0m (11.75 KB)\n"
      ]
     },
     "metadata": {},
     "output_type": "display_data"
    },
    {
     "data": {
      "text/html": [
       "<pre style=\"white-space:pre;overflow-x:auto;line-height:normal;font-family:Menlo,'DejaVu Sans Mono',consolas,'Courier New',monospace\"><span style=\"font-weight: bold\"> Non-trainable params: </span><span style=\"color: #00af00; text-decoration-color: #00af00\">0</span> (0.00 B)\n",
       "</pre>\n"
      ],
      "text/plain": [
       "\u001b[1m Non-trainable params: \u001b[0m\u001b[38;5;34m0\u001b[0m (0.00 B)\n"
      ]
     },
     "metadata": {},
     "output_type": "display_data"
    },
    {
     "data": {
      "text/html": [
       "<pre style=\"white-space:pre;overflow-x:auto;line-height:normal;font-family:Menlo,'DejaVu Sans Mono',consolas,'Courier New',monospace\"><span style=\"font-weight: bold\"> Optimizer params: </span><span style=\"color: #00af00; text-decoration-color: #00af00\">6,020</span> (23.52 KB)\n",
       "</pre>\n"
      ],
      "text/plain": [
       "\u001b[1m Optimizer params: \u001b[0m\u001b[38;5;34m6,020\u001b[0m (23.52 KB)\n"
      ]
     },
     "metadata": {},
     "output_type": "display_data"
    }
   ],
   "source": [
    "model.summary()"
   ]
  },
  {
   "cell_type": "code",
   "execution_count": 29,
   "id": "21fd986c-d105-48a0-99cb-5a06bd613a59",
   "metadata": {},
   "outputs": [
    {
     "data": {
      "image/png": "[encoded data removed]",
      "text/plain": [
       "<Figure size 640x480 with 1 Axes>"
      ]
     },
     "metadata": {},
     "output_type": "display_data"
    }
   ],
   "source": [
    "plt.plot(history.history['loss'], label='Training Loss')\n",
    "plt.plot(history.history['val_loss'], label='Validation Loss')\n",
    "plt.title(\"Model Loss over Epochs\")\n",
    "plt.xlabel(\"Epoch\")\n",
    "plt.ylabel(\"Loss\")\n",
    "plt.legend()\n",
    "plt.show()"
   ]
  },
  {
   "cell_type": "code",
   "execution_count": 41,
   "id": "6d1aa8bf-e943-47df-890f-aec9e83b3f4d",
   "metadata": {},
   "outputs": [
    {
     "data": {
      "image/png": "[encoded data removed]",
      "text/plain": [
       "<Figure size 640x480 with 1 Axes>"
      ]
     },
     "metadata": {},
     "output_type": "display_data"
    }
   ],
   "source": [
    "sns.regplot(x=y_test, y=y_pred, color='blue')\n",
    "plt.title(\"Actual vs Predicted Price\")\n",
    "plt.xlabel('Actual Price')\n",
    "plt.ylabel('Predicted Price')\n",
    "plt.show()"
   ]
  },
  {
   "cell_type": "code",
   "execution_count": null,
   "id": "99fcee32-e3bb-4959-9a43-084e4820bb04",
   "metadata": {},
   "outputs": [],
   "source": []
  }
 ],
 "metadata": {
  "kernelspec": {
   "display_name": "Python 3 (ipykernel)",
   "language": "python",
   "name": "python3"
  },
  "language_info": {
   "codemirror_mode": {
    "name": "ipython",
    "version": 3
   },
   "file_extension": ".py",
   "mimetype": "text/x-python",
   "name": "python",
   "nbconvert_exporter": "python",
   "pygments_lexer": "ipython3",
   "version": "3.12.1"
  }
 },
 "nbformat": 4,
 "nbformat_minor": 5
}
